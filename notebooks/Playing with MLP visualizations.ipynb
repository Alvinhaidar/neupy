{
 "cells": [
  {
   "cell_type": "code",
   "execution_count": 1,
   "metadata": {
    "collapsed": false
   },
   "outputs": [
    {
     "name": "stdout",
     "output_type": "stream",
     "text": [
      "Last updated: Sun Dec 18 2016 21:38:41 EET\n",
      "\n",
      "CPython 3.4.3\n",
      "IPython 5.1.0\n",
      "\n",
      "numpy 1.11.2\n",
      "scipy 0.18.1\n",
      "neupy 0.4.0\n",
      "scikit-learn 0.18\n",
      "matplotlib 1.5.3\n"
     ]
    }
   ],
   "source": [
    "%load_ext watermark\n",
    "%watermark -u -n -t -z -v -p numpy,scipy,neupy,scikit-learn,matplotlib"
   ]
  },
  {
   "cell_type": "code",
   "execution_count": 2,
   "metadata": {
    "collapsed": true
   },
   "outputs": [],
   "source": [
    "import warnings\n",
    "warnings.filterwarnings(\"ignore\")"
   ]
  },
  {
   "cell_type": "code",
   "execution_count": 3,
   "metadata": {
    "collapsed": true
   },
   "outputs": [],
   "source": [
    "%matplotlib inline\n",
    "\n",
    "import numpy as np\n",
    "import matplotlib.pyplot as plt\n",
    "\n",
    "plt.style.use('ggplot')"
   ]
  },
  {
   "cell_type": "code",
   "execution_count": 4,
   "metadata": {
    "collapsed": false
   },
   "outputs": [],
   "source": [
    "from sklearn import datasets, preprocessing, model_selection\n",
    "\n",
    "dataset = datasets.load_digits()\n",
    "target_scaler = preprocessing.OneHotEncoder()\n",
    "\n",
    "transformed_input = (dataset.data / 16) - 0.5\n",
    "target = dataset.target.reshape(-1, 1)\n",
    "transformed_target = target_scaler.fit_transform(target)\n",
    "\n",
    "x_train, x_test, y_train, y_test = model_selection.train_test_split(\n",
    "    transformed_input,\n",
    "    transformed_target.todense(),\n",
    "    train_size=0.5,\n",
    "    random_state=0,\n",
    ")"
   ]
  },
  {
   "cell_type": "code",
   "execution_count": null,
   "metadata": {
    "collapsed": false
   },
   "outputs": [
    {
     "data": {
      "image/png": "[encoded data removed]",
      "text/plain": [
       "<matplotlib.figure.Figure at 0x107a51a58>"
      ]
     },
     "metadata": {},
     "output_type": "display_data"
    }
   ],
   "source": [
    "fig, axes = plt.subplots(4, 4, figsize=(4, 5))\n",
    "\n",
    "for i in range(16):\n",
    "    image_coords = (i // 4, i % 4)\n",
    "    image_axes = axes[image_coords]\n",
    "\n",
    "    image_matrix = x_train[i, :].reshape((8, 8))\n",
    "    image_name = y_train[i].argmax()\n",
    "\n",
    "    image_axes.set_title(image_name)\n",
    "    image_axes.imshow(\n",
    "        image_matrix,\n",
    "        cmap=plt.cm.binary,\n",
    "        interpolation='nearest'\n",
    "    )\n",
    "\n",
    "    image_axes.axis('off')"
   ]
  },
  {
   "cell_type": "code",
   "execution_count": null,
   "metadata": {
    "collapsed": false
   },
   "outputs": [
    {
     "name": "stdout",
     "output_type": "stream",
     "text": [
      "Couldn't import dot_parser, loading of dot files will not be possible.\n"
     ]
    }
   ],
   "source": [
    "import time\n",
    "from sklearn import metrics\n",
    "from neupy import algorithms, layers, environment\n",
    "\n",
    "environment.reproducible()\n",
    "environment.speedup()\n",
    "\n",
    "net = algorithms.RPROP(\n",
    "    [\n",
    "        layers.Input(64),\n",
    "        layers.Tanh(100),\n",
    "        layers.Softmax(10),\n",
    "    ],\n",
    "\n",
    "    step=0.1,\n",
    "    verbose=True,\n",
    "    show_epoch='4 times',\n",
    "    error='categorical_crossentropy',\n",
    "    shuffle_data=True,\n",
    "    \n",
    "    decay_rate=0.01,\n",
    "    addons=[algorithms.WeightDecay]\n",
    ")\n",
    "\n",
    "\n",
    "t0 = time.time()\n",
    "net.train(x_train, y_train, x_test, y_test, epochs=100)\n",
    "print(\"Total train time: {:.2f} sec\".format(time.time() - t0))\n",
    "\n",
    "y_predicted = net.predict(x_test).argmax(axis=1)\n",
    "accuracy = metrics.accuracy_score(y_predicted, y_test.argmax(axis=1))\n",
    "\n",
    "print(\"Validation data sample accuracy: {:.2%}\".format(accuracy))"
   ]
  },
  {
   "cell_type": "code",
   "execution_count": null,
   "metadata": {
    "collapsed": false
   },
   "outputs": [],
   "source": [
    "from neupy import plots\n",
    "plots.error_plot(net);"
   ]
  },
  {
   "cell_type": "code",
   "execution_count": null,
   "metadata": {
    "collapsed": false
   },
   "outputs": [],
   "source": [
    "from sklearn import metrics\n",
    "\n",
    "y_test_vector = y_test.argmax(axis=1)\n",
    "y_test_vector = np.asarray(y_test_vector).reshape(y_test_vector.size)\n",
    "confusion_matrix = metrics.confusion_matrix(y_test_vector, y_predicted)\n",
    "\n",
    "plt.figure(figsize=(6, 6))\n",
    "possible_classes = np.arange(10)\n",
    "\n",
    "plt.imshow(confusion_matrix, cmap=plt.cm.Blues, interpolation='nearest')\n",
    "plt.colorbar()\n",
    "\n",
    "plt.xticks(possible_classes, possible_classes)\n",
    "plt.yticks(possible_classes, possible_classes)\n",
    "\n",
    "plt.show()"
   ]
  },
  {
   "cell_type": "code",
   "execution_count": null,
   "metadata": {
    "collapsed": false
   },
   "outputs": [],
   "source": [
    "layers = list(net.connection)\n",
    "hidden_layer = layers[1]\n",
    "input_weights = hidden_layer.weight.get_value()\n",
    "\n",
    "n_features = input_weights.shape[0]\n",
    "feature_index = np.arange(n_features)\n",
    "\n",
    "plt.bar(feature_index, input_weights.sum(axis=1), color='r')\n",
    "plt.xticks(np.arange(0, 65, 8), np.arange(0, 65, 8))\n",
    "plt.xlim(0, 64) "
   ]
  },
  {
   "cell_type": "code",
   "execution_count": null,
   "metadata": {
    "collapsed": false
   },
   "outputs": [],
   "source": [
    "plt.bar(feature_index, np.abs(input_weights.sum(axis=1)), color='r')\n",
    "plt.xticks(np.arange(0, 65, 8), np.arange(0, 65, 8))\n",
    "plt.xlim(0, 64) "
   ]
  },
  {
   "cell_type": "code",
   "execution_count": null,
   "metadata": {
    "collapsed": false
   },
   "outputs": [],
   "source": [
    "def feature_contribution(network):\n",
    "    colors = plt.rcParams['axes.color_cycle']\n",
    "\n",
    "    layers = list(network.connection)\n",
    "    layer = layers[1]\n",
    "        \n",
    "    weights = layer.weight.get_value()\n",
    "    n_features = network.connection.input_shape[0]\n",
    "    feature_index = np.arange(n_features)\n",
    "\n",
    "    positive_weights = np.where(weights > 0, weights, 0)\n",
    "    \n",
    "    plt.bar(feature_index, positive_weights.sum(axis=1),\n",
    "            color=colors[0])\n",
    "\n",
    "    negative_weights = np.where(weights < 0, weights, 0)\n",
    "    plt.bar(feature_index, negative_weights.sum(axis=1),\n",
    "            color=colors[1])\n",
    "\n",
    "    plt.xlabel(\"Input feature position\")\n",
    "    plt.xlim(0, n_features)\n",
    "\n",
    "plt.figure(figsize=(14, 6))\n",
    "label_frequency = np.arange(0, n_features + 1, 8)\n",
    "plt.xticks(label_frequency, label_frequency)\n",
    "\n",
    "feature_contribution(net)"
   ]
  },
  {
   "cell_type": "code",
   "execution_count": null,
   "metadata": {
    "collapsed": false
   },
   "outputs": [],
   "source": [
    "weights = layers[1].weight.get_value()\n",
    "positive_weights = np.where(weights > 0, weights, 0)\n",
    "negative_weights = np.where(weights < 0, weights, 0)\n",
    "\n",
    "fig, (axes_left, axes_right) = plt.subplots(1, 2, figsize=(8, 12))\n",
    "\n",
    "axes_left.set_title(\"Sum over positive weights\")\n",
    "plots.hinton(\n",
    "    positive_weights.sum(axis=1).reshape((8, 8)),\n",
    "    ax=axes_left,\n",
    "    add_legend=False\n",
    ")\n",
    "\n",
    "axes_right.set_title(\"Sum over negative weights\")\n",
    "plots.hinton(\n",
    "    negative_weights.sum(axis=1).reshape((8, 8)),\n",
    "    ax=axes_right,\n",
    "    add_legend=False\n",
    ")\n",
    "plt.show()"
   ]
  },
  {
   "cell_type": "code",
   "execution_count": null,
   "metadata": {
    "collapsed": false
   },
   "outputs": [],
   "source": [
    "import six\n",
    "\n",
    "def generate_layer_names(n_layers):\n",
    "    if n_layers < 2:\n",
    "        raise ValueError(\"Number of layers should be greater or \"\n",
    "                         \"equal to 2\")\n",
    "        \n",
    "    if not isinstance(n_layers, six.integer_types):\n",
    "        raise ValueError(\"Number of layers should be an integer \"\n",
    "                         \"number\")\n",
    "\n",
    "    patterns = {\n",
    "        2: ['Input layer', 'Output layer'],\n",
    "        3: ['Input layer', 'Hidden layer', 'Output layer'],\n",
    "    } \n",
    "\n",
    "    if n_layers in patterns:\n",
    "        return patterns[n_layers]\n",
    "    \n",
    "    layers_names = patterns[2]\n",
    "    for i in range(1, n_layers - 1):\n",
    "        layers_names.insert(-1, 'Hidden layer #{}'.format(i))\n",
    "\n",
    "    return layers_names\n",
    "\n",
    "print(generate_layer_names(n_layers=2))\n",
    "print(generate_layer_names(n_layers=3))\n",
    "print(generate_layer_names(n_layers=4))\n",
    "print(generate_layer_names(n_layers=5)) "
   ]
  },
  {
   "cell_type": "code",
   "execution_count": null,
   "metadata": {
    "collapsed": true
   },
   "outputs": [],
   "source": [
    "def connection_threads(network, stretch=False):\n",
    "    colors = plt.rcParams['axes.color_cycle']\n",
    "    \n",
    "    layers = list(network.connection)\n",
    "    layers = layers[1:]  # ignore the Input layer\n",
    "\n",
    "    layer_sizes = np.array([layer.output_shape[0] for layer in network.connection])\n",
    "    max_n_inputs = float(layer_sizes.max())\n",
    "    layer_shifts = (max_n_inputs - layer_sizes) / 2\n",
    "    layers_iter = zip(layers, layer_shifts, layer_shifts[1:])\n",
    "\n",
    "    for i, (layer, left_shift, right_shift) in enumerate(layers_iter):\n",
    "        weight = layer.weight.get_value()\n",
    "        max_value = np.abs(weight).max()\n",
    "\n",
    "        layer_input_size, layer_output_size = weight.shape\n",
    "        left_scaler = max_n_inputs / max(layer_input_size - 2, 2)\n",
    "        right_scaler = max_n_inputs / max(layer_output_size - 1, 2)\n",
    "\n",
    "        for (left_index, right_index), value in np.ndenumerate(weight):\n",
    "            color = (colors[0] if np.sign(value) == 1 else colors[1])\n",
    "\n",
    "            if stretch:\n",
    "                y_coords = [(left_index) * left_scaler,\n",
    "                            (right_index) * right_scaler]\n",
    "            else:\n",
    "                left_index += left_shift\n",
    "                right_index += right_shift\n",
    "                y_coords = [left_index, right_index]\n",
    "\n",
    "            line = plt.plot([i, i + 1], y_coords, color,\n",
    "                            alpha=abs(value) / (max_value))\n",
    "\n",
    "    plt.ylim(-1, max_n_inputs + 1)\n",
    "\n",
    "    n_layers = len(network.layers)\n",
    "    plt.yticks([], [])\n",
    "    plt.xticks(np.arange(n_layers), generate_layer_names(n_layers))"
   ]
  },
  {
   "cell_type": "code",
   "execution_count": null,
   "metadata": {
    "collapsed": false
   },
   "outputs": [],
   "source": [
    "plt.figure(figsize=(12, 6))\n",
    "connection_threads(net)"
   ]
  },
  {
   "cell_type": "code",
   "execution_count": null,
   "metadata": {
    "collapsed": false
   },
   "outputs": [],
   "source": [
    "plt.figure(figsize=(12, 6))\n",
    "connection_threads(net, stretch=True)"
   ]
  }
 ],
 "metadata": {
  "kernelspec": {
   "display_name": "Python 3",
   "language": "python",
   "name": "python3"
  },
  "language_info": {
   "codemirror_mode": {
    "name": "ipython",
    "version": 3
   },
   "file_extension": ".py",
   "mimetype": "text/x-python",
   "name": "python",
   "nbconvert_exporter": "python",
   "pygments_lexer": "ipython3",
   "version": "3.4.3"
  }
 },
 "nbformat": 4,
 "nbformat_minor": 1
}
